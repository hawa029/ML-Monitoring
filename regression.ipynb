{
  "cells": [
    {
      "cell_type": "markdown",
      "metadata": {
        "id": "Di-xzibZM-vA"
      },
      "source": [
        "# Single-Record Ingestion for Regression\n",
        "\n",
        "This example walks through the Arize single-record API for [ingesting regression data](https://docs.arize.com/arize/sending-data-to-arize/model-types/regression). Guides for other model types are available [here](https://docs.arize.com/arize/sending-data-to-arize/model-types)."
      ]
    },
    {
      "cell_type": "markdown",
      "metadata": {
        "id": "0i0EZDtYM-vB"
      },
      "source": [
        "## Install and Import Dependencies"
      ]
    },
    {
      "cell_type": "code",
      "execution_count": 1,
      "metadata": {
        "id": "JwURB7nP5njg"
      },
      "outputs": [],
      "source": [
        "import concurrent.futures as cf\n",
        "import json\n",
        "import urllib\n",
        "\n",
        "from arize.api import Client\n",
        "from arize.utils.types import ModelTypes, Environments, Schema"
      ]
    },
    {
      "cell_type": "markdown",
      "metadata": {
        "id": "_SrZ64v2M-vC"
      },
      "source": [
        "## Download and Display Data"
      ]
    },
    {
      "cell_type": "code",
      "execution_count": 2,
      "metadata": {
        "id": "qKNas2Jw5njh"
      },
      "outputs": [
        {
          "name": "stdout",
          "output_type": "stream",
          "text": [
            "{\n",
            "    \"prediction_id\": \"5e2f1db0-ab81-4471-979d-42027e9b61e4\",\n",
            "    \"predicted_score\": 128.3277740479,\n",
            "    \"actual_score\": 162.0,\n",
            "    \"features\": {\n",
            "        \"age\": -0.0709002471,\n",
            "        \"sex\": -0.0446416365,\n",
            "        \"bmi\": -0.0579409337,\n",
            "        \"bp\": -0.0814131438,\n",
            "        \"s1\": -0.0455994513,\n",
            "        \"s2\": -0.0288709421,\n",
            "        \"s3\": -0.0434008457,\n",
            "        \"s4\": -0.002592262,\n",
            "        \"s5\": 0.001147576,\n",
            "        \"s6\": -0.0052198044\n",
            "    }\n",
            "}\n"
          ]
        }
      ],
      "source": [
        "with urllib.request.urlopen(\n",
        "    \"https://storage.googleapis.com/arize-assets/documentation-sample-data/data-ingestion/regression-assets/regression_single_record.json?raw=true\"\n",
        ") as f:\n",
        "    record = json.load(f)\n",
        "print(json.dumps(record, indent=4))"
      ]
    },
    {
      "cell_type": "markdown",
      "metadata": {
        "id": "2r5eky7ZM-vD"
      },
      "source": [
        "## Create Arize Client\n",
        "\n",
        "Sign up/ log in to your Arize account [here](https://app.arize.com/auth/login). Find your [space and API keys](https://docs.arize.com/arize/api-reference/arize.log/client). Copy/paste into the cell below."
      ]
    },
    {
      "cell_type": "code",
      "execution_count": 5,
      "metadata": {
        "id": "ZeK1ZDlH5nji"
      },
      "outputs": [
        {
          "name": "stdout",
          "output_type": "stream",
          "text": [
            "✅ Arize client setup done!\n"
          ]
        }
      ],
      "source": [
        "SPACE_KEY = \"SPACE_KEY\"  \n",
        "API_KEY = \"API_KEY\"  \n",
        "arize_client = Client(space_key=SPACE_KEY, api_key=API_KEY)\n",
        "if SPACE_KEY == \"SPACE_KEY\" or API_KEY == \"API_KEY\":\n",
        "    raise ValueError(\"❌ CHANGE SPACE AND API KEYS\")\n",
        "else:\n",
        "    print(\"✅ Arize client setup done!\")"
      ]
    },
    {
      "cell_type": "markdown",
      "metadata": {
        "id": "9lv-jCs8M-vE"
      },
      "source": [
        "## Log Data to Arize\n",
        "\n",
        "Log the record using the [single-record API](https://docs.arize.com/arize/sending-data-to-arize/data-ingestion-methods/sdk-reference/python-sdk/arize.log)."
      ]
    },
    {
      "cell_type": "code",
      "execution_count": 4,
      "metadata": {
        "id": "DpoBmGcE5njk"
      },
      "outputs": [
        {
          "name": "stdout",
          "output_type": "stream",
          "text": [
            "✅ Successfully logged data to Arize!\n"
          ]
        }
      ],
      "source": [
        "future = arize_client.log(\n",
        "    prediction_id=record[\"prediction_id\"],\n",
        "    features=record[\"features\"],\n",
        "    prediction_label=record[\"predicted_score\"],\n",
        "    actual_label=record[\"actual_score\"],\n",
        "    model_id=\"regression-single-record-ingestion\",\n",
        "    model_type=ModelTypes.REGRESSION,\n",
        "    model_version=\"1.0.0\",\n",
        "    environment=Environments.PRODUCTION\n",
        ")\n",
        "result = future.result()\n",
        "\n",
        "if result.status_code == 200:\n",
        "    print(f\"✅ Successfully logged data to Arize!\")\n",
        "else:\n",
        "    print(\n",
        "        f'❌ Logging failed with status code {result.status_code} and message \"{result.text}\"'\n",
        "    )"
      ]
    },
    {
      "cell_type": "code",
      "execution_count": null,
      "metadata": {},
      "outputs": [],
      "source": []
    }
  ],
  "metadata": {
    "colab": {
      "provenance": []
    },
    "kernelspec": {
      "display_name": "monitoring",
      "language": "python",
      "name": "python3"
    },
    "language_info": {
      "codemirror_mode": {
        "name": "ipython",
        "version": 3
      },
      "file_extension": ".py",
      "mimetype": "text/x-python",
      "name": "python",
      "nbconvert_exporter": "python",
      "pygments_lexer": "ipython3",
      "version": "3.7.16"
    }
  },
  "nbformat": 4,
  "nbformat_minor": 0
}
